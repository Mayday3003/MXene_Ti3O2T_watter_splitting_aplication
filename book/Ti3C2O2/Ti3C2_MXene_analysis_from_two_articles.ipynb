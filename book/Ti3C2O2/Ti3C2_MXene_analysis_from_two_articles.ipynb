{
  "cells": [
    {
      "cell_type": "markdown",
      "metadata": {},
      "source": [
        "# Ti₃C₂ - MXene\n",
        "\n"
      ]
    },
    {
      "cell_type": "markdown",
      "metadata": {},
      "source": [
        "\n",
        "- **Razones físicas/químicas :**\n",
        "  1. **Alta conductividad eléctrica** (característica metálica en muchos casos) que facilita el transporte de electrones. \n",
        "\n",
        "\n",
        "  2. **Sitios activos y vacancias**: etching y post-tratamientos generan defectos (vacancias) que actúan como sitios activos.\n",
        "\n",
        "  ![CC BY 4.0 licence](images/vacancy.png)\n",
        "\n",
        "  3. **Versatilidad**: se demuestra su función tanto como **co-catalizador en fotocatálisis** (HER) como **catalizador heterogéneo** para síntesis orgánica, lo que ilustra su comportamiento multifuncional. \n",
        "\n"
      ]
    },
    {
      "cell_type": "markdown",
      "metadata": {},
      "source": [
        "Ambos artículos utilizan procedimientos de fabricación a partir del precursor *MAX* (Ti₃AlC₂) y describen métodos de etching para obtener Ti₃C₂\n",
        "\n",
        "\n",
        "  - Se preparó por **etching químico** del precursor Ti₃AlC₂ usando ácidos fluorados (HF o mezclas NH₄F/HCl) seguida de exfoliación/expansión (dimetilsulfóxido) y tratamientos posteriores. Se usa como metodología experimental utilizada en ambos trabajos para obtener Ti₃C₂. "
      ]
    },
    {
      "cell_type": "markdown",
      "id": "f1bd01ea",
      "metadata": {},
      "source": [
        "#### ¿Qué tiene que ver el *etching* con los MXenes?\n",
        "\n",
        "   - Los **MXenes** no se encuentran tal cual en la naturaleza.  \n",
        "   - Se obtienen a partir de un material precursor llamado **fase MAX** (fórmula general: Mₙ₊₁AXₙ).  \n",
        "     - **M** = metal de transición (Ti, Nb, V, etc.)  \n",
        "     - **A** = elemento del grupo 13–14 (Al, Si, etc.)  \n",
        "     - **X** = C y/o N  \n",
        "\n",
        "   Ejemplo: el precursor de **Ti₃C₂** es **Ti₃AlC₂** (fase MAX).\n",
        "\n",
        "2. **¿Qué es el *etching*?**  \n",
        "   - Es un **proceso de grabado químico** que elimina selectivamente el elemento **A** de la fase MAX.  \n",
        "   - En el caso de Ti₃AlC₂ → Ti₃C₂, se elimina el **Al**.\n",
        "\n",
        "3. **¿Cómo se realiza?**  \n",
        "   - Tradicionalmente se usa **ácido fluorhídrico (HF)** o combinaciones de sales fluoradas (ej. LiF + HCl).  \n",
        "   - La reacción típica:  \n",
        "\n",
        "     $$\n",
        "     Ti₃AlC₂ (MAX) + HF \\rightarrow {Ti₃C₂ (MXene)} + AlF₃ + H₂↑\n",
        "     $$\n",
        "\n",
        "   - Tras el *etching*, quedan láminas de Ti₃C₂ con **terminaciones superficiales** (–F, –O, –OH).\n",
        "\n",
        "4. **¿Por qué es importante el *etching*?**  \n",
        "   - **Transforma** el sólido MAX (3D, con capas unidas por A) en un material **2D laminar** (MXene).  \n",
        "   - Genera la **estructura característica de los MXenes**: láminas ultrafinas con superficies activas.  \n",
        "   - Introduce terminaciones superficiales (–F, –O, –OH) que afectan:  \n",
        "     - **Estabilidad química**  \n",
        "     - **Propiedades electrónicas** (bandgap, nivel de Fermi)  \n",
        "     - **Actividad catalítica** (ejemplo: ΔG_H* casi ideal en Ti₃C₂–O para evolución de H₂).\n",
        "\n"
      ]
    },
    {
      "cell_type": "markdown",
      "metadata": {},
      "source": [
        "## 3) Propiedades electrónicas y de superficie relevantes para *water splitting* (fotocatálisis de HER)\n",
        "\n",
        "- **DFT — energía libre de adsorción de H\\***: En la modulación de la actividad HER el parámetro clave es ΔG_H*. Los autores del trabajo de fotocatálisis calculan ΔG_H* para diferentes terminaciones:\n",
        "  - **O-terminado Ti₃C₂**: ΔG_H* ≈ **0.00283 eV** (en cobertura óptima y y = 1/2), un valor prácticamente neutro y comparable o mejor que Pt y mucho mejor que otras fases (p. ej. MoS₂, WS₂). Esto indica **muy favorable** termodinámicamente la evolución de H₂ sobre O-terminado Ti₃C₂. fileciteturn1file0\n",
        "  - **Ti₃C₂ \"puro\" (sin terminaciones)**: ΔG_H* ≈ **−0.927 eV** (adsorbe H* demasiado fuertemente) — no ideal. fileciteturn1file0\n",
        "  - **F-terminado Ti₃C₂**: ΔG_H* ≈ **+1.995 eV** (adsorbe H* muy débilmente) — tampoco ideal. fileciteturn1file0\n",
        "\n",
        "- **Estructura electrónica y Fermi level (EF)**:\n",
        "  - Ti₃C₂ muestra **características metálicas** (estados atravesando el nivel de Fermi), con continuidad de estados al nivel de Fermi incluso tras terminaciones, lo que preserva buena conductividad. fileciteturn1file0\n",
        "  - Los valores calculados de EF (versus SHE) reportados en el artículo son aproximados y relevantes para el emparejamiento con el CB de CdS: **pure Ti₃C₂: −0.05 V; O-terminated: +1.88 V; F-terminated: +0.15 V (vs SHE)**. El O-terminado presenta un EF que facilita aceptar electrones fotoinducidos desde semiconductores seleccionados. fileciteturn1file0\n",
        "\n",
        "- **Interpretación para fotocatálisis**: O-terminado Ti₃C₂ combina (i) ΔG_H* casi óptimo, (ii) buena conductividad (transporte electrónico rápido) y (iii) un EF que favorece la transferencia de electrones desde fotocatalizadores como CdS, formando una **unión tipo Schottky** que separa cargas y concentra electrones en Ti₃C₂ para reducir protones a H₂. Todo esto está claramente discutido y respaldado por DFT y experimentos en el artículo de *Nature Communications*. fileciteturn1file0\n"
      ]
    },
    {
      "cell_type": "markdown",
      "metadata": {},
      "source": [
        "## 4) Propiedades cristalinas y simetría \n",
        "\n",
        "  - Los autores reportan picos XRD característicos del MXene (cambios de 2θ tras etching) y **patrones  hexagonales**, indicando cristalinidad y simetría hexagonal local en dominios; además se cuantifican distancias intercapas (002) que llevan a estimaciones de espaciamiento interlaminar ~ **1.08–1.13 nm** (dependiendo del tratamiento) y valores específicos como 1.11–1.12 nm para ciertas muestras.\n",
        "\n",
        "\n",
        "- los artículos describen Ti₃C₂ como un material cristalino con orden local consistente con la estructura MXene (dominios con simetría hexagonal y planos interlaminares bien definidos). Las terminaciones superficiales y la exfoliación alteran distancias intercapas pero **no destruyen** la estructura cristalina básica. \n"
      ]
    },
    {
      "cell_type": "markdown",
      "metadata": {},
      "source": [
        "## Referencias\n",
        "\n",
        "1. Ran, J.; Gao, G.; Li, F.-T.; Ma, T.-Y.; Du, A.; Qiao, S.-Z. *Ti3C2 MXene co-catalyst on metal sulfide photo-absorbers for enhanced visible-light photocatalytic hydrogen production.* Nat. Commun. 8, 13907 (2017). \n",
        "2. Anouar, A.; Romero Salicio, E.; García-Aznar, P.; Grirrane, A.; Forneli, A.; Sastre, G.; Garcia, H.; Primo, A. *Ti3C2 MXene as heterogeneous catalyst for carbodiimides guanylation with over 10^2 h−1 turnover frequencies.* J. Catal. 450 (2025).\n"
      ]
    },
    {
      "cell_type": "code",
      "execution_count": null,
      "id": "0b02364e",
      "metadata": {
        "vscode": {
          "languageId": "plaintext"
        }
      },
      "outputs": [],
      "source": []
    }
  ],
  "metadata": {
    "kernelspec": {
      "display_name": "Python 3",
      "language": "python",
      "name": "python3"
    },
    "language_info": {
      "name": "python",
      "version": "3.10"
    }
  },
  "nbformat": 4,
  "nbformat_minor": 5
}
