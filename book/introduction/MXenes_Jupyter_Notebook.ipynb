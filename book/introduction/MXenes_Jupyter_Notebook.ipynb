{
 "cells": [
  {
   "cell_type": "markdown",
   "id": "33c8695c",
   "metadata": {},
   "source": [
    "# Hidrógeno: solución para la transición energética\n",
    "\n",
    "---\n",
    "\n",
    "## Problemática de los combustibles actuales \n",
    "Los combustibles fósiles (petróleo, gas y carbón) dominan hoy la matriz energética mundial.\n",
    "\n",
    " <center><img src=\"images/global-fossil-fuel-consumption.png\" width=\"650\"></center> \n",
    "\n",
    "\n",
    "Según el Programa de las Naciones Unidas para el Medio Ambiente (2023), los países deberían aspirar a, por una parte, **eliminar** casi por completo la producción y el uso de **carbón para 2040** y, por otra parte, a reducir al menos en un 75% la producción y el uso tanto del gas como del petróleo para 2050 respecto a los niveles de 2020. \n",
    "\n",
    "\n",
    "\n",
    "---\n",
    "## $H_{2}$ como combustible renovable\n",
    "\n",
    "\n",
    "#### 2. ¿Por qué el hidrógeno?\n",
    "\n",
    "\n",
    "- **Cero emisiones directas en uso**: cuando se usa como combustible su emisión directa es agua\n",
    "\n",
    "- **Alta densidad energética por masa**: El hidrógeno tiene la mayor energía por kilogramo de cualquier combustible conocido $(~120 MJ/kg)$, casi 3 veces más que la gasolina.\n",
    "Esto lo hace ideal para aplicaciones donde el peso importa: aviación, transporte pesado y espacial.\n",
    "\n",
    "\n",
    "#### Desafíos actuales\n",
    "\n",
    "- Alto costo de producción.\n",
    "\n",
    "- Dificultad de almacenamiento y transporte (es muy liviano y requiere alta presión o temperaturas criogénicas).\n",
    "\n",
    "- Infraestructura limitada (pocos gasoductos y estaciones de recarga).\n",
    "\n",
    "\n",
    "\n",
    "\n",
    "###  Demanda de hidrógeno: panorama global (datos y proyecciones)\n",
    "\n",
    "- La demanda histórica y las proyecciones muestran un **crecimiento notable** desde ~75 Mt H₂ (punto de referencia actual) hacia cifras muy superiores en 2050 dependiendo del escenario (varios estudios estiman rangos amplios, p. ej. entre ~150 Mt y >500–800 Mt en 2050 según ambición de descarbonización). Estas diferencias dependen de supuestos: electrificación, uso de CCUS, precio del CO₂ y madurez de tecnologías. :contentReference[oaicite:5]{index=5} :contentReference[oaicite:6]{index=6}\n",
    "\n",
    "> **Figura (recomendada para insertar)**  \n",
    "> - *Gráfica comparativa de demanda global 2010–2050 (varios escenarios)* — ver Working Paper del World Energy Council / “Hydrogen Demand and Cost Dynamics”. (Descargar y colocar en `figures/global_hydrogen_demand.png`).  :contentReference[oaicite:8]{index=8}\n",
    "\n",
    "**Comentario**: la literatura muestra que hasta 2030 el crecimiento será moderado (proyectos pequeños y despliegue de infraestructura lento). A partir de 2030–2035, si se despliega infraestructura y políticas fuertes, la demanda puede escalar rápidamente. :contentReference[oaicite:9]{index=9}\n",
    "\n",
    "---\n",
    "\n",
    "## 4. Indicadores económicos: costos de producción (LCOH)\n",
    "- El **LCOH** (Levelized Cost of Hydrogen) varía por ruta y por recurso (solar/eólico). En condiciones óptimas de recurso renovable, algunos estudios y la Hoja de Ruta de Colombia proyectan **LCOH ≈ 1.7 USD/kg** para hidrógeno verde en regiones muy favorables alrededor de 2030 (por ejemplo Caribe Norte / La Guajira), lo que sitúa a Colombia con potencial de competitividad internacional. :contentReference[oaicite:10]{index=10} :contentReference[oaicite:11]{index=11}\n",
    "\n",
    "> **Figura (recomendada para insertar)**  \n",
    "> - *Mapa / gráfica de LCOH por regiones de Colombia (2020–2050)* — usar `figures/colombia_lcoh_regions.png` extraída de la Hoja de Ruta. :contentReference[oaicite:12]{index=12}\n",
    "\n",
    "---\n",
    "\n",
    "## 5. El caso de Colombia — por qué es estratégico\n",
    "**Fortalezas principales** (resumidas):\n",
    "- **Recursos renovables excepcionales** en zonas concretas (La Guajira: recurso eólico con factores de planta muy altos; además buenas áreas solares y un gran potencial hídrico), lo que reduce el LCOH del hidrógeno verde. :contentReference[oaicite:13]{index=13}  \n",
    "- **Reservas y experiencia en combustibles fósiles** (gas y carbón) que permiten despliegues de hidrógeno azul como fase de transición aprovechando infraestructura y know-how local. :contentReference[oaicite:14]{index=14}  \n",
    "- **Posicionamiento geoestratégico y puertos** (Caribe y Pacífico) que favorecen la exportación hacia mercados demandantes de hidrógeno y derivados. :contentReference[oaicite:15]{index=15}  \n",
    "- **Marco regulatorio y metas**: Ley de Transición Energética y la Hoja de Ruta (metas 2030) definen objetivos concretos: 1–3 GW de electrolizadores a 2030, 50 kt de hidrógeno azul, costos competitivos en zonas óptimas y despliegue de hidrogeneras. :contentReference[oaicite:16]{index=16}\n",
    "\n",
    "**Impacto estimado de uso nacional**:\n",
    "- La Hoja de Ruta estima que la demanda interna puede alcanzar cifras del orden de **~1.850 kt hacia 2050**, con el transporte (incluido pesado, aéreo y marítimo) y la industria (fertilizantes, refinación, minería, siderurgia) como grandes consumidores. La introducción del H₂ de bajas emisiones podría abatir **~13 Mt CO₂ en 2050** (aprox. 14% de las emisiones energéticas de 2019). \n",
    "\n",
    "> **Figura (recomendada para insertar)**  \n",
    "> - *Evolución prevista de la demanda nacional (Hoja de Ruta Colombia)* — usar `figures/colombia_demand_projection.png`. :contentReference[oaicite:18]{index=18}\n",
    "\n",
    "---\n",
    "\n",
    "## 6. Riesgos y retos\n",
    "- **Costes de transporte y distribución** (almacenamiento, amoniaco vs. gaseoso) pueden limitar la adopción y la competitividad regional.   \n",
    "- **Necesidad de infraestructura**: ductos, hidrogeneras, terminales de exportación/importación; su despliegue es costoso y lento.   \n",
    "- **Políticas y precio del CO₂**: la competitividad del hidrógeno azul depende en buena medida de señales de mercado sobre emisiones y del coste del CO₂. :contentReference[oaicite:21]{index=21}\n",
    "\n",
    "---\n",
    "\n"
   ]
  },
  {
   "cell_type": "markdown",
   "id": "9b761a3f",
   "metadata": {},
   "source": [
    "# MXenes: estructura, historia, aplicaciones y catálisis (Water Splitting)\n",
    "\n"
   ]
  },
  {
   "cell_type": "markdown",
   "id": "5c9e5664",
   "metadata": {},
   "source": [
    "## 1. ¿Qué son los MXenes?\n",
    "\n",
    "Los *MXenes* son materiales bidimensionales de la familia de los carburos, nitruros y carbonitruros de metales de transición con fórmula general $M_{n+1}X_nT_x$, donde $M$ = metal de transición, $X$ = C y/o N, $T_x$ representa grupos de terminación de superficie (p. ej. −O, −OH, −F). \n",
    "\n",
    "![CC BY 4.0 licence](images/MXenes.webp)\n"
   ]
  },
  {
   "cell_type": "markdown",
   "id": "05861fdd",
   "metadata": {},
   "source": [
    "## Principios de *electrocatalytic water splitting* HER (Hydrogen evolution reaction)\n",
    "\n",
    " $$2H_2O \\rightarrow 2H_2 + O_2$$\n",
    "\n",
    "\n",
    "| <center><img src=\"images/Electrolysis_of_Water.png\" width=\"450\"></center> |\n",
    "\n",
    "\n"
   ]
  },
  {
   "cell_type": "markdown",
   "id": "aca106e9",
   "metadata": {},
   "source": [
    "## MXenes como electrocatalizadores para HER HER (Hydrogen evolution reaction)\n",
    "\n",
    "- Ventajas de MXenes: alta conductividad metálica, gran área superficial, hidrofílicidad y química superficial ajustable.\n",
    "- Factores que afectan la actividad HER:\n",
    "  - **Composición M/X** (p. ej. Mo2C vs Ti2C),\n",
    "  - **Terminaciones T_x** (−O, −OH, −F) \n"
   ]
  },
  {
   "cell_type": "markdown",
   "id": "0e625f6e",
   "metadata": {},
   "source": [
    "# Retos actuales para *water splitting* y para los MXenes\n",
    "\n",
    "## 1. Retos principales para *water splitting* (electroquímico / foto / fotoelectroquímico)\n",
    "\n",
    "- **Degradación y reconstrucción de catalizadores**: muchos catalizadores sufren corrosión o reestructuración bajo condiciones operativas (potenciales elevados, pH extremo), reduciendo su vida útil. \n",
    "\n",
    "\n",
    "- **Escalado y diseño de dispositivo / manejo de gases**: separación segura H₂/O₂, gas crossover, integración de electrodos a escala y gestión de burbujas son barreras prácticas para pasar del laboratorio a la planta.\n",
    "\n",
    "\n",
    "- **Operación en agua real (impurezas, aguas salinas)**: iones y contaminantes afectan selectividad, corrosión de electrodos y formación de subproductos.\n",
    "\n",
    "\n",
    "- **Separación de cargas en fotocatálisis y estabilidad STH**: recombinación rápida electrón-hueco y degradación bajo irradiación limitan rendimiento solar a hidrógeno.\n",
    "\n",
    "## 2. Retos específicos de los MXenes (aplicación en HER / OER / bifuncionales)\n",
    "- **Oxidación y degradación en ambiente acuoso / electroquímico**: MXenes (p. ej. Ti₃C₂Tₓ) son susceptibles a oxidarse, lo que deteriora conductividad y sitios activos. \n",
    "\n",
    "- **Restacking y pérdida de área/porosidad**: las láminas 2D tienden a apilarse, reduciendo acceso a sitios activos y transferencia de masa.  \n",
    "\n",
    "- **Control y heterogeneidad de terminaciones superficiales (–O, –OH, –F, …)**: las propiedades catalíticas dependen fuertemente de T_x; controlar y caracterizar estas terminaciones de forma reproducible es difícil. \n",
    "\n",
    "- **Métodos de síntesis escalables y seguros**: rutas de etching tradicionalmente usan HF o reactivos agresivos; desarrollar procesos escalables, reproducibles y menos tóxicos es clave.\n",
    "\n",
    "- **Estabilidad electroquímica bajo condiciones oxidantes (OER)**: muchos MXenes se transforman parcial o totalmente en óxidos durante OER, cambiando su actividad y durabilidad. \n",
    "\n",
    "- **Identificación de sitios activos y caracterización operando (in-situ/operando)**: es complejo asignar la actividad a terminaciones, bordes o defectos sin técnicas avanzadas.  \n",
    "\n"
   ]
  },
  {
   "cell_type": "markdown",
   "id": "1e94c1b9",
   "metadata": {},
   "source": [
    "## Referencias principales usadas\n",
    "\n",
    "-  Nesterova V., Korostelev V., Klyukin K. *Unveiling the role of termination groups in stabilizing MXenes in contact with water* (2024).\n",
    "- Zehtab Salmasi M., Omidkar A., Nguyen H.M., Song H. *MXenes as electrocatalysts for hydrogen production through the electrocatalytic water splitting process: A mini review* (Energy Reviews, 2024). fileciteturn1file1\n",
    "- Revisión general y contexto histórico: Gogotsi & Naguib, *MXenes* (ACS/Nature reviews, trabajos clave). \n"
   ]
  }
 ],
 "metadata": {
  "kernelspec": {
   "display_name": "quimica",
   "language": "python",
   "name": "python3"
  },
  "language_info": {
   "codemirror_mode": {
    "name": "ipython",
    "version": 3
   },
   "file_extension": ".py",
   "mimetype": "text/x-python",
   "name": "python",
   "nbconvert_exporter": "python",
   "pygments_lexer": "ipython3",
   "version": "3.12.11"
  }
 },
 "nbformat": 4,
 "nbformat_minor": 5
}
