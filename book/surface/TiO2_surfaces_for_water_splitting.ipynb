{
 "cells": [
  {
   "cell_type": "markdown",
   "id": "eed2cb75",
   "metadata": {},
   "source": [
    "\n",
    "# TiO₂ surfaces for water splitting — reproducible notebook\n",
    "\n",
    "**What this notebook contains (complete, reproducible workflow):**\n",
    "- Brief theory and *why* we choose specific surfaces for water splitting.\n",
    "- Code to fetch bulk TiO₂ structures from **Materials Project** (or fallback to local CIFs).\n",
    "- Code to build slabs for **rutile (110)** and **anatase (101)** and **anatase (001)**, relax them (placeholder) and save **POSCARs** for VASP.\n",
    "- Example `INCAR` and `KPOINTS` templates and suggestions for DFT parameters.\n",
    "- Extensive inline comments and Markdown explanations for every step — so you can follow and reproduce.\n",
    "\n",
    "**Notes before running:**\n",
    "- To download structures from Materials Project you need an API key. Place it in the environment variable `PMG_MAPI_KEY` or set `MP_API_KEY` variable in the notebook cells.\n",
    "- This notebook *does not* attempt to run VASP. It prepares structures and inputs. You should run DFT on your HPC cluster.\n",
    "- If you do not have a Materials Project API key, the notebook will show how to use local CIFs instead.\n"
   ]
  },
  {
   "cell_type": "markdown",
   "id": "cb36803d",
   "metadata": {},
   "source": [
    "\n",
    "## Why these surfaces? (short justification)\n",
    "\n",
    "**Rutile (110)** — *benchmark & surface science reference*\n",
    "- Rutile is the thermodynamically stable TiO₂ polymorph at bulk conditions. The (110) surface is the most commonly studied rutile facet in surface science because it is the most stable and well-characterized experimentally (STM, LEED, TPD, XPS).\n",
    "- For water splitting, rutile(110) is crucial as a **reference**: many mechanistic and adsorption studies use it as a baseline. If you want to compare to older experimental/theoretical literature, model this surface.\n",
    "\n",
    "**Anatase (101)** — *practical photocatalysis standard*\n",
    "- Anatase nanoparticles commonly expose the (101) facet and are known to show strong photocatalytic performance (good charge separation). This facet tends to adsorb molecular water and is a representative \"realistic\" exposed facet of nanomaterials used in water splitting experiments.\n",
    "- Use anatase(101) when your goal is to model typical photocatalytic nanoparticles and overall water splitting activity.\n",
    "\n",
    "**Anatase (001)** — *reactive facet, complementary study*\n",
    "- Anatase(001) is more reactive than (101) (higher surface energy), often implicated in oxidation reactions (OER). It's less stable but highly active — useful as a complementary surface to study high-activity sites for OER intermediates.\n",
    "\n",
    "**Practical modelling note:** water splitting involves both hydrogen evolution (HER) and oxygen evolution (OER). Often the **reduction** (HER) benefits from good electron transport (anatase or rutile), while **oxidation** (OER) is favored on higher-energy, more reactive facets (like anatase(001)). Therefore we include both anatase(101) and anatase(001) plus rutile(110) as a benchmark.\n"
   ]
  },
  {
   "cell_type": "code",
   "execution_count": 9,
   "id": "754fb958",
   "metadata": {},
   "outputs": [
    {
     "name": "stdout",
     "output_type": "stream",
     "text": [
      "Output directory: /home/Mayday3003/Documents/Github-repos/MXene_Ti3O2T_watter_splitting_aplication/book/surface/TiO2_surfaces_output\n"
     ]
    }
   ],
   "source": [
    "\n",
    "# Code: imports, helper functions and environment checks.\n",
    "# This cell tries to import necessary python packages and defines helper functions.\n",
    "# If you run this notebook, please ensure you have 'pymatgen' and 'ase' installed in your environment.\n",
    "# Install with: pip install pymatgen ase\n",
    "from pathlib import Path\n",
    "import os\n",
    "from pymatgen.core.surface import SlabGenerator, generate_all_slabs\n",
    "from pymatgen.core.structure import Structure\n",
    "from pymatgen.ext.matproj import MPRester\n",
    "\n",
    "OUTDIR = Path(\"TiO2_surfaces_output\")\n",
    "OUTDIR.mkdir(exist_ok=True)\n",
    "print(\"Output directory:\", OUTDIR.resolve())\n",
    "\n",
    "def save_poscar(structure, filename):\n",
    "    \"\"\"Save POSCAR using pymatgen's Structure.to with VASP format.\"\"\"\n",
    "    with open(filename, 'w') as f:\n",
    "        f.write(structure.to(fmt=\"poscar\"))\n",
    "    print(f\"Saved POSCAR: {filename}\")\n",
    "\n",
    "def make_and_save_slab(bulk_struct, miller, min_slab_thickness=10.0, min_vacuum_thickness=15.0, center_slab=True, filename_prefix=\"slab\"):\n",
    "    \"\"\"Generate a slab and save POSCAR. Returns first slab object.\"\"\"\n",
    "    sg = SlabGenerator(initial_structure=bulk_struct, miller_index=miller,\n",
    "                       min_slab_size=min_slab_thickness, min_vacuum_size=min_vacuum_thickness, center_slab=center_slab)\n",
    "    slabs = sg.get_slabs()  # list of slabs; we take the first (usually symmetric) slab\n",
    "    if not slabs:\n",
    "        raise ValueError(f\"No slab generated for {miller}\")\n",
    "    slab = slabs[0]\n",
    "    save_poscar(slab, OUTDIR / f\"{filename_prefix}_{miller[0]}{miller[1]}{miller[2]}_POSCAR.vasp\")\n",
    "    return slab\n"
   ]
  },
  {
   "cell_type": "markdown",
   "id": "2e9d2b15",
   "metadata": {},
   "source": [
    "\n",
    "## Materials Project access (automatic) or local CIF fallback\n",
    "\n",
    "The following cell will try to fetch bulk structures from Materials Project using `MPRester`.\n",
    "- **If you have an API key**, set it in the environment variable `PMG_MAPI_KEY` (or `MP_API_KEY`) before running the cell.\n",
    "- **If not**, the cell will instruct you how to place CIF files in the `./cifs/` directory and will load them from there.\n",
    "\n",
    "We target **mp-2657 (rutile)** and **mp-390 (anatase)** which are the commonly used bulk entries in Materials Project.\n"
   ]
  },
  {
   "cell_type": "code",
   "execution_count": 10,
   "id": "b37a6d40",
   "metadata": {},
   "outputs": [
    {
     "name": "stdout",
     "output_type": "stream",
     "text": [
      "No Materials Project fetch. Looking for local CIF files in ./cifs/\n",
      "Local CIF not found for rutile: expected materials/rutile.cif; please add it or set PMG_MAPI_KEY.\n",
      "Local CIF not found for anatase: expected materials/anatase.cif; please add it or set PMG_MAPI_KEY.\n"
     ]
    }
   ],
   "source": [
    "\n",
    "# Attempt to fetch bulk structures from Materials Project; fallback to local CIFs.\n",
    "from pymatgen.ext.matproj import MPRester\n",
    "import os\n",
    "local_cif_dir = Path(\"materials\")\n",
    "local_cif_dir.mkdir(exist_ok=True)\n",
    "\n",
    "MP_API_KEY = 'FHqPoi7BeE4MqQ5eUt9csKC55KgoiiCZ'\n",
    "# Materials Project IDs commonly used\n",
    "mpids = {\n",
    "    'rutile': 'mp-2657',  # rutile TiO2\n",
    "    'anatase': 'mp-390'   # anatase TiO2\n",
    "}\n",
    "\n",
    "structures = {}\n",
    "\n",
    "api_key = os.environ.get('PMG_MAPI_KEY') or os.environ.get('MP_API_KEY') or None\n",
    "if api_key:\n",
    "    print(\"Materials Project API key detected; trying to fetch structures...\")\n",
    "    try:\n",
    "        with MPRester(api_key) as mpr:\n",
    "            for name, mid in mpids.items():\n",
    "                print(f\"Fetching {name} -> {mid}\")\n",
    "                struct = mpr.get_structure_by_material_id(mid)\n",
    "                structures[name] = struct\n",
    "                print(f\"Fetched {name}: formula {struct.formula}, lattice {struct.lattice}\")\n",
    "    except Exception as e:\n",
    "        print(\"Failed to fetch from Materials Project:\", e)\n",
    "        api_key = None\n",
    "\n",
    "if not api_key:\n",
    "    # fallback: look for local CIFs: anatase.cif and rutile.cif in ./cifs/\n",
    "    print(\"No Materials Project fetch. Looking for local CIF files in ./cifs/\") \n",
    "    fallback_files = {\n",
    "        'rutile': local_cif_dir / 'rutile.cif',\n",
    "        'anatase': local_cif_dir / 'anatase.cif'\n",
    "    }\n",
    "    for name, p in fallback_files.items():\n",
    "        if p.exists():\n",
    "            print(f\"Loading local CIF for {name}: {p}\")\n",
    "            structures[name] = Structure.from_file(p)\n",
    "        else:\n",
    "            print(f\"Local CIF not found for {name}: expected {p}; please add it or set PMG_MAPI_KEY.\")\n",
    "\n",
    "# summary\n",
    "for k,v in structures.items():\n",
    "    print(k, v.composition, v.lattice)\n"
   ]
  },
  {
   "cell_type": "markdown",
   "id": "5fe5eefe",
   "metadata": {},
   "source": [
    "\n",
    "## Generate slabs for the chosen surfaces\n",
    "\n",
    "We will generate:\n",
    "- **rutile (110)** from the rutile bulk (mp-2657)\n",
    "- **anatase (101)** and **anatase (001)** from anatase bulk (mp-390)\n",
    "\n",
    "The slab generator parameters chosen (`min_slab_size` and `min_vacuum_size`) are conservative defaults:\n",
    "- slab thickness ~10 Å ensures several atomic layers (tune for convergence),\n",
    "- vacuum ≥15 Å avoids slab-slab interactions in z.\n"
   ]
  },
  {
   "cell_type": "code",
   "execution_count": 11,
   "id": "1252dd4d",
   "metadata": {},
   "outputs": [
    {
     "name": "stdout",
     "output_type": "stream",
     "text": [
      "Done. Generated slabs (keys): []\n"
     ]
    }
   ],
   "source": [
    "\n",
    "# Generate slabs for rutile(110), anatase(101) and anatase(001)\n",
    "slabs_generated = {}\n",
    "if 'rutile' in structures:\n",
    "    print('Making rutile (110) slab...')\n",
    "    slabs_generated['rutile_110'] = make_and_save_slab(structures['rutile'], (1,1,0), min_slab_thickness=12.0, min_vacuum_thickness=18.0, filename_prefix='rutile')\n",
    "if 'anatase' in structures:\n",
    "    print('Making anatase (101) slab...')\n",
    "    slabs_generated['anatase_101'] = make_and_save_slab(structures['anatase'], (1,0,1), min_slab_thickness=12.0, min_vacuum_thickness=18.0, filename_prefix='anatase_101')\n",
    "    print('Making anatase (001) slab...')\n",
    "    slabs_generated['anatase_001'] = make_and_save_slab(structures['anatase'], (0,0,1), min_slab_thickness=12.0, min_vacuum_thickness=18.0, filename_prefix='anatase_001')\n",
    "\n",
    "print('Done. Generated slabs (keys):', list(slabs_generated.keys()))\n"
   ]
  },
  {
   "cell_type": "markdown",
   "id": "c5564537",
   "metadata": {},
   "source": [
    "\n",
    "## Example INCAR and KPOINTS templates for VASP\n",
    "\n",
    "Below are suggested templates you can use as starting points. **Adjust** cutoffs, U values, k-points and smearing to match your code/pseudopotentials/HPC policy.\n"
   ]
  },
  {
   "cell_type": "code",
   "execution_count": 12,
   "id": "81bcb866",
   "metadata": {},
   "outputs": [
    {
     "name": "stdout",
     "output_type": "stream",
     "text": [
      "Wrote example INCAR and KPOINTS to TiO2_surfaces_output\n"
     ]
    }
   ],
   "source": [
    "\n",
    "# Write example INCAR and KPOINTS files to OUTDIR\n",
    "incar_text = \"\"\"SYSTEM = TiO2 surface (example)\n",
    "ENCUT = 520\n",
    "ISMEAR = 0\n",
    "SIGMA = 0.05\n",
    "EDIFF = 1E-5\n",
    "EDIFFG = -0.02\n",
    "IBRION = 2\n",
    "NSW = 100\n",
    "ISIF = 2\n",
    "LREAL = Auto\n",
    "LWAVE = .FALSE.\n",
    "LCHARG = .FALSE.\n",
    "# For improved energies of defect states/band edges consider HSE06 or PBE+U\n",
    "# For PBE+U example:\n",
    "# LDAU = .TRUE.\n",
    "# LDAUTYPE = 2\n",
    "# LDAUL = 2 -1\n",
    "# LDAUU = 4.2 0.0   # Ti U ~ 4 eV (tune as needed)\n",
    "# LDAUJ = 0 0\n",
    "\"\"\"\n",
    "\n",
    "kpoints_text = \"\"\"Automatic mesh\n",
    "0\n",
    "Monkhorst\n",
    "4 4 1\n",
    "0 0 0\n",
    "\"\"\"\n",
    "\n",
    "with open(OUTDIR / 'INCAR.example', 'w') as f:\n",
    "    f.write(incar_text)\n",
    "with open(OUTDIR / 'KPOINTS.example', 'w') as f:\n",
    "    f.write(kpoints_text)\n",
    "print('Wrote example INCAR and KPOINTS to', OUTDIR) \n"
   ]
  },
  {
   "cell_type": "markdown",
   "id": "7a59ddf1",
   "metadata": {},
   "source": [
    "\n",
    "---\n",
    "\n",
    "### What I did and why (summary inside the notebook)\n",
    "- Picked **rutile (110)** for benchmarking and comparison with surface-science literature. It's stable and has deep experimental coverage.\n",
    "- Picked **anatase (101)** as the standard photocatalytic exposed facet (representative for nanoparticles used in photocatalysis).\n",
    "- Picked **anatase (001)** as a complementary reactive facet often implicated in OER steps.\n",
    "- Prepared a reproducible notebook that **fetches bulk structures (mp-2657 and mp-390)** from Materials Project (if API key available), falls back to local CIFs otherwise, builds slabs with conservative thickness and vacuum, saves POSCARs, and writes example VASP input templates.\n",
    "\n",
    "You can now run the notebook on your machine (or HPC interactive node). If you want, I can also:\n",
    "- prepare further automated convergence tests (slab thickness, k-points),\n",
    "- add automated Bader charge analysis scripts,\n",
    "- generate water adsorption initial structures (H2O placements) for reaction path sampling,\n",
    "- or produce NEB templates for OER/HER steps.\n"
   ]
  }
 ],
 "metadata": {
  "kernelspec": {
   "display_name": "quimica",
   "language": "python",
   "name": "python3"
  },
  "language_info": {
   "codemirror_mode": {
    "name": "ipython",
    "version": 3
   },
   "file_extension": ".py",
   "mimetype": "text/x-python",
   "name": "python",
   "nbconvert_exporter": "python",
   "pygments_lexer": "ipython3",
   "version": "3.12.11"
  }
 },
 "nbformat": 4,
 "nbformat_minor": 5
}
